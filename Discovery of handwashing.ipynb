{
 "cells": [
  {
   "cell_type": "markdown",
   "id": "bb2b6416-8ff9-48aa-8cdc-54771e74d97f",
   "metadata": {},
   "source": [
    "## Dr. Semmelweis and the Discovery of Handwashing"
   ]
  },
  {
   "cell_type": "markdown",
   "id": "7761b203-5d38-4f8f-9013-d447ca21acde",
   "metadata": {},
   "source": [
    "Reanalyse the data behind one of the most important discoveries of modern medicine: handwashing."
   ]
  },
  {
   "cell_type": "markdown",
   "id": "ccffb158-34da-4fe6-a446-de06d117eb5d",
   "metadata": {},
   "source": [
    "#### Project Description"
   ]
  },
  {
   "cell_type": "markdown",
   "id": "9e047489-c3b5-41a4-a07c-22a02d8ee907",
   "metadata": {},
   "source": [
    "In 1847, the Hungarian physician Ignaz Semmelweis made a breakthough discovery: he discovers handwashing. Contaminated hands was a major cause of childbed fever and by enforcing handwashing at his hospital he saved hundreds of lives."
   ]
  },
  {
   "cell_type": "markdown",
   "id": "159a06b0-4f0e-4378-894a-586da228f065",
   "metadata": {},
   "source": [
    "### Project Tasks"
   ]
  },
  {
   "cell_type": "markdown",
   "id": "c2137a2b-b77d-4aef-9db8-dcfb4fa69d90",
   "metadata": {},
   "source": [
    "1. Meet Dr. Ignaz Semmelweis\n",
    "2. The alarming number of deaths\n",
    "3. Death at the clinics\n",
    "4. The handwashing begins\n",
    "5. The effect of handwashing\n",
    "6. The effect of handwashing highlighted\n",
    "7. More handwashing, fewer deaths?\n",
    "8. A Bootstrap analysis of Semmelweis handwashing data\n",
    "9. The fate of Dr. Semmelweis"
   ]
  },
  {
   "cell_type": "code",
   "execution_count": null,
   "id": "b450fc92-8b7f-4e80-9c2e-0aeed555a164",
   "metadata": {},
   "outputs": [],
   "source": []
  },
  {
   "cell_type": "markdown",
   "id": "5c6180af-9946-46d1-a1ac-6bf59badc7a3",
   "metadata": {},
   "source": [
    "### 1. Meet Dr. Ignaz Semmelweis"
   ]
  },
  {
   "cell_type": "markdown",
   "id": "6a0135bf-6a9b-41c8-ac1d-0c39edcb460e",
   "metadata": {},
   "source": [
    "<p>This is Dr. Ignaz Semmelweis, a Hungarian physician born in 1818 and active at the Vienna General Hospital. If Dr. Semmelweis looks troubled it's probably because he's thinking about <em>childbed fever</em>: A deadly disease affecting women that just have given birth. He is thinking about it because in the early 1840s at the Vienna General Hospital as many as 10% of the women giving birth die from it. He is thinking about it because he knows the cause of childbed fever: It's the contaminated hands of the doctors delivering the babies. And they won't listen to him and <em>wash their hands</em>!</p>\n",
    "<p>In this notebook, we're going to reanalyze the data that made Semmelweis discover the importance of <em>handwashing</em>. Let's start by looking at the data that made Semmelweis realize that something was wrong with the procedures at Vienna General Hospital.</p>"
   ]
  },
  {
   "cell_type": "code",
   "execution_count": 1,
   "id": "f28771cf-15e4-4db5-b4fd-781ca2913c74",
   "metadata": {},
   "outputs": [
    {
     "data": {
      "text/html": [
       "<div>\n",
       "<style scoped>\n",
       "    .dataframe tbody tr th:only-of-type {\n",
       "        vertical-align: middle;\n",
       "    }\n",
       "\n",
       "    .dataframe tbody tr th {\n",
       "        vertical-align: top;\n",
       "    }\n",
       "\n",
       "    .dataframe thead th {\n",
       "        text-align: right;\n",
       "    }\n",
       "</style>\n",
       "<table border=\"1\" class=\"dataframe\">\n",
       "  <thead>\n",
       "    <tr style=\"text-align: right;\">\n",
       "      <th></th>\n",
       "      <th>year</th>\n",
       "      <th>births</th>\n",
       "      <th>deaths</th>\n",
       "      <th>clinic</th>\n",
       "    </tr>\n",
       "  </thead>\n",
       "  <tbody>\n",
       "    <tr>\n",
       "      <th>0</th>\n",
       "      <td>1841</td>\n",
       "      <td>3036</td>\n",
       "      <td>237</td>\n",
       "      <td>clinic 1</td>\n",
       "    </tr>\n",
       "    <tr>\n",
       "      <th>1</th>\n",
       "      <td>1842</td>\n",
       "      <td>3287</td>\n",
       "      <td>518</td>\n",
       "      <td>clinic 1</td>\n",
       "    </tr>\n",
       "    <tr>\n",
       "      <th>2</th>\n",
       "      <td>1843</td>\n",
       "      <td>3060</td>\n",
       "      <td>274</td>\n",
       "      <td>clinic 1</td>\n",
       "    </tr>\n",
       "    <tr>\n",
       "      <th>3</th>\n",
       "      <td>1844</td>\n",
       "      <td>3157</td>\n",
       "      <td>260</td>\n",
       "      <td>clinic 1</td>\n",
       "    </tr>\n",
       "    <tr>\n",
       "      <th>4</th>\n",
       "      <td>1845</td>\n",
       "      <td>3492</td>\n",
       "      <td>241</td>\n",
       "      <td>clinic 1</td>\n",
       "    </tr>\n",
       "    <tr>\n",
       "      <th>5</th>\n",
       "      <td>1846</td>\n",
       "      <td>4010</td>\n",
       "      <td>459</td>\n",
       "      <td>clinic 1</td>\n",
       "    </tr>\n",
       "    <tr>\n",
       "      <th>6</th>\n",
       "      <td>1841</td>\n",
       "      <td>2442</td>\n",
       "      <td>86</td>\n",
       "      <td>clinic 2</td>\n",
       "    </tr>\n",
       "    <tr>\n",
       "      <th>7</th>\n",
       "      <td>1842</td>\n",
       "      <td>2659</td>\n",
       "      <td>202</td>\n",
       "      <td>clinic 2</td>\n",
       "    </tr>\n",
       "    <tr>\n",
       "      <th>8</th>\n",
       "      <td>1843</td>\n",
       "      <td>2739</td>\n",
       "      <td>164</td>\n",
       "      <td>clinic 2</td>\n",
       "    </tr>\n",
       "    <tr>\n",
       "      <th>9</th>\n",
       "      <td>1844</td>\n",
       "      <td>2956</td>\n",
       "      <td>68</td>\n",
       "      <td>clinic 2</td>\n",
       "    </tr>\n",
       "    <tr>\n",
       "      <th>10</th>\n",
       "      <td>1845</td>\n",
       "      <td>3241</td>\n",
       "      <td>66</td>\n",
       "      <td>clinic 2</td>\n",
       "    </tr>\n",
       "    <tr>\n",
       "      <th>11</th>\n",
       "      <td>1846</td>\n",
       "      <td>3754</td>\n",
       "      <td>105</td>\n",
       "      <td>clinic 2</td>\n",
       "    </tr>\n",
       "  </tbody>\n",
       "</table>\n",
       "</div>"
      ],
      "text/plain": [
       "    year  births  deaths    clinic\n",
       "0   1841    3036     237  clinic 1\n",
       "1   1842    3287     518  clinic 1\n",
       "2   1843    3060     274  clinic 1\n",
       "3   1844    3157     260  clinic 1\n",
       "4   1845    3492     241  clinic 1\n",
       "5   1846    4010     459  clinic 1\n",
       "6   1841    2442      86  clinic 2\n",
       "7   1842    2659     202  clinic 2\n",
       "8   1843    2739     164  clinic 2\n",
       "9   1844    2956      68  clinic 2\n",
       "10  1845    3241      66  clinic 2\n",
       "11  1846    3754     105  clinic 2"
      ]
     },
     "execution_count": 1,
     "metadata": {},
     "output_type": "execute_result"
    }
   ],
   "source": [
    "# Importing modules\n",
    "import pandas as pd\n",
    "import matplotlib.pyplot as plt\n",
    "import seaborn as sns\n",
    "\n",
    "yearly = pd.read_csv('datasets/yearly_deaths_by_clinic.csv')\n",
    "\n",
    "yearly"
   ]
  },
  {
   "cell_type": "code",
   "execution_count": 2,
   "id": "f1387652-02d2-4a55-914d-1bd5d4773160",
   "metadata": {},
   "outputs": [
    {
     "data": {
      "text/plain": [
       "<AxesSubplot:xlabel='year'>"
      ]
     },
     "execution_count": 2,
     "metadata": {},
     "output_type": "execute_result"
    },
    {
     "data": {
      "text/plain": [
       "<Figure size 576x432 with 0 Axes>"
      ]
     },
     "metadata": {},
     "output_type": "display_data"
    },
    {
     "data": {
      "image/png": "[encoded data removed]",
      "text/plain": [
       "<Figure size 432x288 with 1 Axes>"
      ]
     },
     "metadata": {
      "needs_background": "light"
     },
     "output_type": "display_data"
    }
   ],
   "source": [
    "col = []\n",
    "for i in yearly['clinic']:\n",
    "    if i == 'clinic 1':\n",
    "        col.append('red')\n",
    "    else:\n",
    "        col.append('yellow')\n",
    "        \n",
    "plt.figure(figsize=(8, 6))\n",
    "yearly.plot.bar(x='year', y='deaths', color=col)"
   ]
  },
  {
   "cell_type": "markdown",
   "id": "a5895d98-10a9-4e6a-885d-a074a2f7e56a",
   "metadata": {},
   "source": [
    "### 2. The alarming number of deaths\n",
    "<p>The table above shows the number of women giving birth at the two clinics at the Vienna General Hospital for the years 1841 to 1846. You'll notice that giving birth was very dangerous; an <em>alarming</em> number of women died as the result of childbirth, most of them from childbed fever.</p>\n",
    "<p>We see this more clearly if we look at the <em>proportion of deaths</em> out of the number of women giving birth. Let's zoom in on the proportion of deaths at Clinic 1.</p>"
   ]
  },
  {
   "cell_type": "code",
   "execution_count": 5,
   "id": "73d521de-b7d6-4163-a079-33fd2fdc1ef7",
   "metadata": {},
   "outputs": [
    {
     "data": {
      "text/html": [
       "<div>\n",
       "<style scoped>\n",
       "    .dataframe tbody tr th:only-of-type {\n",
       "        vertical-align: middle;\n",
       "    }\n",
       "\n",
       "    .dataframe tbody tr th {\n",
       "        vertical-align: top;\n",
       "    }\n",
       "\n",
       "    .dataframe thead th {\n",
       "        text-align: right;\n",
       "    }\n",
       "</style>\n",
       "<table border=\"1\" class=\"dataframe\">\n",
       "  <thead>\n",
       "    <tr style=\"text-align: right;\">\n",
       "      <th></th>\n",
       "      <th>year</th>\n",
       "      <th>births</th>\n",
       "      <th>deaths</th>\n",
       "      <th>clinic</th>\n",
       "      <th>prop_deaths</th>\n",
       "    </tr>\n",
       "  </thead>\n",
       "  <tbody>\n",
       "    <tr>\n",
       "      <th>0</th>\n",
       "      <td>1841</td>\n",
       "      <td>3036</td>\n",
       "      <td>237</td>\n",
       "      <td>clinic 1</td>\n",
       "      <td>0.078063</td>\n",
       "    </tr>\n",
       "    <tr>\n",
       "      <th>1</th>\n",
       "      <td>1842</td>\n",
       "      <td>3287</td>\n",
       "      <td>518</td>\n",
       "      <td>clinic 1</td>\n",
       "      <td>0.157591</td>\n",
       "    </tr>\n",
       "    <tr>\n",
       "      <th>2</th>\n",
       "      <td>1843</td>\n",
       "      <td>3060</td>\n",
       "      <td>274</td>\n",
       "      <td>clinic 1</td>\n",
       "      <td>0.089542</td>\n",
       "    </tr>\n",
       "    <tr>\n",
       "      <th>3</th>\n",
       "      <td>1844</td>\n",
       "      <td>3157</td>\n",
       "      <td>260</td>\n",
       "      <td>clinic 1</td>\n",
       "      <td>0.082357</td>\n",
       "    </tr>\n",
       "    <tr>\n",
       "      <th>4</th>\n",
       "      <td>1845</td>\n",
       "      <td>3492</td>\n",
       "      <td>241</td>\n",
       "      <td>clinic 1</td>\n",
       "      <td>0.069015</td>\n",
       "    </tr>\n",
       "    <tr>\n",
       "      <th>5</th>\n",
       "      <td>1846</td>\n",
       "      <td>4010</td>\n",
       "      <td>459</td>\n",
       "      <td>clinic 1</td>\n",
       "      <td>0.114464</td>\n",
       "    </tr>\n",
       "  </tbody>\n",
       "</table>\n",
       "</div>"
      ],
      "text/plain": [
       "   year  births  deaths    clinic  prop_deaths\n",
       "0  1841    3036     237  clinic 1     0.078063\n",
       "1  1842    3287     518  clinic 1     0.157591\n",
       "2  1843    3060     274  clinic 1     0.089542\n",
       "3  1844    3157     260  clinic 1     0.082357\n",
       "4  1845    3492     241  clinic 1     0.069015\n",
       "5  1846    4010     459  clinic 1     0.114464"
      ]
     },
     "execution_count": 5,
     "metadata": {},
     "output_type": "execute_result"
    }
   ],
   "source": [
    "# Calculate proportion of deaths per no. births\n",
    "yearly['prop_deaths'] = yearly['deaths'] / yearly['births']\n",
    "# print(prop_deaths)\n",
    "\n",
    "# Extract Clinic 1 data into clinic_1 and Clinic 2 data into clinic_2\n",
    "clinic_1 = yearly[yearly['clinic'] == 'clinic 1']\n",
    "clinic_2 = yearly[yearly['clinic'] == 'clinic 2']\n",
    "\n",
    "# Print out clinic_1\n",
    "clinic_1"
   ]
  },
  {
   "cell_type": "markdown",
   "id": "bad3765b-7f36-433c-b169-35d37e2225aa",
   "metadata": {},
   "source": [
    "### 3. Death at the clinics\n",
    "<p>If we now plot the proportion of deaths at both Clinic 1 and Clinic 2  we'll see a curious pattern…</p>"
   ]
  },
  {
   "cell_type": "code",
   "execution_count": 25,
   "id": "e8f45a14-64f6-434e-9aca-2a2afda6791d",
   "metadata": {},
   "outputs": [
    {
     "data": {
      "text/plain": [
       "<AxesSubplot:xlabel='prop_deaths', ylabel='year'>"
      ]
     },
     "execution_count": 25,
     "metadata": {},
     "output_type": "execute_result"
    },
    {
     "data": {
      "image/png": "[encoded data removed]",
      "text/plain": [
       "<Figure size 576x432 with 2 Axes>"
      ]
     },
     "metadata": {
      "needs_background": "light"
     },
     "output_type": "display_data"
    }
   ],
   "source": [
    "# This makes plots appear in the notebook\n",
    "%matplotlib inline\n",
    "\n",
    "# Plot yearly proportion of deaths at the two clinics\n",
    "fig, axes = plt.subplots(nrows=1, ncols=2, figsize=(8, 6))\n",
    "\n",
    "sns.lineplot(x='prop_deaths', y='year', data=clinic_1, ax=axes[0])\n",
    "sns.lineplot(x='prop_deaths', y='year', data=clinic_2, ax=axes[1])"
   ]
  },
  {
   "cell_type": "markdown",
   "id": "f656359a-6af2-4212-b3d8-515a6b0f83ef",
   "metadata": {},
   "source": [
    "### 4. The handwashing begins\n",
    "<p>Why is the proportion of deaths consistently so much higher in Clinic 1? Semmelweis saw the same pattern and was puzzled and distressed. The only difference between the clinics was that many medical students served at Clinic 1, while mostly midwife students served at Clinic 2. While the midwives only tended to the women giving birth, the medical students also spent time in the autopsy rooms examining corpses. </p>\n",
    "<p>Semmelweis started to suspect that something on the corpses spread from the hands of the medical students, caused childbed fever. So in a desperate attempt to stop the high mortality rates, he decreed: <em>Wash your hands!</em> This was an unorthodox and controversial request, nobody in Vienna knew about bacteria at this point in time. </p>\n",
    "<p>Let's load in monthly data from Clinic 1 to see if the handwashing had any effect.</p>"
   ]
  },
  {
   "cell_type": "code",
   "execution_count": 10,
   "id": "ac7e8953-9fec-4d8b-95ce-07ccbe50ccee",
   "metadata": {},
   "outputs": [
    {
     "data": {
      "text/html": [
       "<div>\n",
       "<style scoped>\n",
       "    .dataframe tbody tr th:only-of-type {\n",
       "        vertical-align: middle;\n",
       "    }\n",
       "\n",
       "    .dataframe tbody tr th {\n",
       "        vertical-align: top;\n",
       "    }\n",
       "\n",
       "    .dataframe thead th {\n",
       "        text-align: right;\n",
       "    }\n",
       "</style>\n",
       "<table border=\"1\" class=\"dataframe\">\n",
       "  <thead>\n",
       "    <tr style=\"text-align: right;\">\n",
       "      <th></th>\n",
       "      <th>date</th>\n",
       "      <th>births</th>\n",
       "      <th>deaths</th>\n",
       "      <th>prop_deaths</th>\n",
       "    </tr>\n",
       "  </thead>\n",
       "  <tbody>\n",
       "    <tr>\n",
       "      <th>0</th>\n",
       "      <td>1841-01-01</td>\n",
       "      <td>254</td>\n",
       "      <td>37</td>\n",
       "      <td>0.145669</td>\n",
       "    </tr>\n",
       "    <tr>\n",
       "      <th>1</th>\n",
       "      <td>1841-02-01</td>\n",
       "      <td>239</td>\n",
       "      <td>18</td>\n",
       "      <td>0.075314</td>\n",
       "    </tr>\n",
       "    <tr>\n",
       "      <th>2</th>\n",
       "      <td>1841-03-01</td>\n",
       "      <td>277</td>\n",
       "      <td>12</td>\n",
       "      <td>0.043321</td>\n",
       "    </tr>\n",
       "    <tr>\n",
       "      <th>3</th>\n",
       "      <td>1841-04-01</td>\n",
       "      <td>255</td>\n",
       "      <td>4</td>\n",
       "      <td>0.015686</td>\n",
       "    </tr>\n",
       "    <tr>\n",
       "      <th>4</th>\n",
       "      <td>1841-05-01</td>\n",
       "      <td>255</td>\n",
       "      <td>2</td>\n",
       "      <td>0.007843</td>\n",
       "    </tr>\n",
       "  </tbody>\n",
       "</table>\n",
       "</div>"
      ],
      "text/plain": [
       "         date  births  deaths  prop_deaths\n",
       "0  1841-01-01     254      37     0.145669\n",
       "1  1841-02-01     239      18     0.075314\n",
       "2  1841-03-01     277      12     0.043321\n",
       "3  1841-04-01     255       4     0.015686\n",
       "4  1841-05-01     255       2     0.007843"
      ]
     },
     "execution_count": 10,
     "metadata": {},
     "output_type": "execute_result"
    }
   ],
   "source": [
    "# Read datasets/monthly_deaths.csv into monthly\n",
    "monthly = pd.read_csv('datasets/monthly_deaths.csv')\n",
    "\n",
    "# Calculate proportion of deaths per no. births\n",
    "monthly['prop_deaths'] = monthly['deaths'] / monthly['births']\n",
    "\n",
    "# Print out the first rows in monthly\n",
    "monthly.head()"
   ]
  },
  {
   "cell_type": "markdown",
   "id": "38f9557c-dd09-4ff3-b8aa-cd8908eb2018",
   "metadata": {},
   "source": [
    "### 5. The effect of handwashing\n",
    "<p>With the data loaded we can now look at the proportion of deaths over time. In the plot below we haven't marked where obligatory handwashing started, but it reduced the proportion of deaths to such a degree that you should be able to spot it!</p>"
   ]
  },
  {
   "cell_type": "code",
   "execution_count": 56,
   "id": "42a8d150-11c2-4c1d-bed2-3c8c44defd4c",
   "metadata": {},
   "outputs": [
    {
     "data": {
      "text/plain": [
       "Text(0, 0.5, 'Proportions')"
      ]
     },
     "execution_count": 56,
     "metadata": {},
     "output_type": "execute_result"
    },
    {
     "data": {
      "image/png": "[encoded data removed]",
      "text/plain": [
       "<Figure size 432x288 with 1 Axes>"
      ]
     },
     "metadata": {
      "needs_background": "light"
     },
     "output_type": "display_data"
    }
   ],
   "source": [
    "ax = monthly.plot.line(x='date', y='prop_deaths')\n",
    "ax.set_xlabel('Year')\n",
    "ax.set_ylabel('Proportions')"
   ]
  },
  {
   "cell_type": "code",
   "execution_count": 17,
   "id": "32585b80-b5f1-4b90-a28d-f4d172a47808",
   "metadata": {},
   "outputs": [
    {
     "data": {
      "text/plain": [
       "array(['1841-01-01', '1841-02-01', '1841-03-01', '1841-04-01',\n",
       "       '1841-05-01', '1841-06-01', '1841-07-01', '1841-08-01',\n",
       "       '1841-09-01', '1841-10-01', '1841-11-01', '1842-01-01',\n",
       "       '1842-02-01', '1842-03-01', '1842-04-01', '1842-05-01',\n",
       "       '1842-06-01', '1842-07-01', '1842-08-01', '1842-09-01',\n",
       "       '1842-10-01', '1842-11-01', '1842-12-01', '1843-01-01',\n",
       "       '1843-02-01', '1843-03-01', '1843-04-01', '1843-05-01',\n",
       "       '1843-06-01', '1843-07-01', '1843-08-01', '1843-09-01',\n",
       "       '1843-10-01', '1843-11-01', '1843-12-01', '1844-01-01',\n",
       "       '1844-02-01', '1844-03-01', '1844-04-01', '1844-05-01',\n",
       "       '1844-06-01', '1844-07-01', '1844-08-01', '1844-09-01',\n",
       "       '1844-10-01', '1844-11-01', '1844-12-01', '1845-01-01',\n",
       "       '1845-02-01', '1845-03-01', '1845-04-01', '1845-05-01',\n",
       "       '1845-06-01', '1845-07-01', '1845-08-01', '1845-09-01',\n",
       "       '1845-10-01', '1845-11-01', '1845-12-01', '1846-01-01',\n",
       "       '1846-02-01', '1846-03-01', '1846-04-01', '1846-05-01',\n",
       "       '1846-06-01', '1846-07-01', '1846-08-01', '1846-09-01',\n",
       "       '1846-10-01', '1846-11-01', '1846-12-01', '1847-01-01',\n",
       "       '1847-02-01', '1847-03-01', '1847-04-01', '1847-05-01',\n",
       "       '1847-06-01', '1847-07-01', '1847-08-01', '1847-09-01',\n",
       "       '1847-10-01', '1847-11-01', '1847-12-01', '1848-01-01',\n",
       "       '1848-02-01', '1848-03-01', '1848-04-01', '1848-05-01',\n",
       "       '1848-06-01', '1848-07-01', '1848-08-01', '1848-09-01',\n",
       "       '1848-10-01', '1848-11-01', '1848-12-01', '1849-01-01',\n",
       "       '1849-02-01', '1849-03-01'], dtype=object)"
      ]
     },
     "execution_count": 17,
     "metadata": {},
     "output_type": "execute_result"
    }
   ],
   "source": [
    "monthly['date'].unique()"
   ]
  },
  {
   "cell_type": "code",
   "execution_count": 50,
   "id": "ee1588d4-17df-481a-9ef8-fd9b04a300be",
   "metadata": {},
   "outputs": [],
   "source": [
    "monthly.sort_values(by='date', ascending=True, inplace=True)\n",
    "pd.to_datetime(monthly['date'])\n",
    "\n",
    "monthly['month'] = monthly['date'].dt.month\n",
    "monthly['year'] = monthly['date'].dt.year"
   ]
  },
  {
   "cell_type": "markdown",
   "id": "25bc349e-45e1-4a6c-9e50-87ca3aa74c93",
   "metadata": {},
   "source": [
    "#### Creating custom function through which we can see proportions of deaths on monthly base"
   ]
  },
  {
   "cell_type": "code",
   "execution_count": 48,
   "id": "aa9105c7-921d-479a-ad11-c60c73bf2dd7",
   "metadata": {},
   "outputs": [],
   "source": [
    "# Plot monthly proportion of deaths\n",
    "def year_filter(year: str):\n",
    "    data = monthly.groupby('year').get_group(year)['month']\n",
    "    sns.lineplot(x=data, y='prop_deaths', data=monthly)"
   ]
  },
  {
   "cell_type": "code",
   "execution_count": 49,
   "id": "b95993a9-edd8-4ca9-bbba-84197adf5030",
   "metadata": {},
   "outputs": [
    {
     "data": {
      "image/png": "[encoded data removed]",
      "text/plain": [
       "<Figure size 432x288 with 1 Axes>"
      ]
     },
     "metadata": {
      "needs_background": "light"
     },
     "output_type": "display_data"
    }
   ],
   "source": [
    "year_filter(1845)"
   ]
  },
  {
   "cell_type": "markdown",
   "id": "2421dd1f-8c19-404b-9764-2866c1e45e73",
   "metadata": {},
   "source": [
    "### 6. The effect of handwashing highlighted\n",
    "<p>Starting from the summer of 1847 the proportion of deaths is drastically reduced and, yes, this was when Semmelweis made handwashing obligatory. </p>\n",
    "<p>The effect of handwashing is made even more clear if we highlight this in the graph.</p>"
   ]
  },
  {
   "cell_type": "code",
   "execution_count": 91,
   "id": "ba923a6e-d12e-4656-850b-187f9a06aea0",
   "metadata": {},
   "outputs": [
    {
     "data": {
      "text/plain": [
       "Text(0, 0.5, 'Proportion deaths')"
      ]
     },
     "execution_count": 91,
     "metadata": {},
     "output_type": "execute_result"
    },
    {
     "data": {
      "image/png": "[encoded data removed]",
      "text/plain": [
       "<Figure size 432x288 with 1 Axes>"
      ]
     },
     "metadata": {
      "needs_background": "light"
     },
     "output_type": "display_data"
    }
   ],
   "source": [
    "# Date when handwashing was made mandatory\n",
    "handwashing_start = pd.to_datetime('1847-06-01')\n",
    "\n",
    "# Split monthly into before and after handwashing_start\n",
    "before_washing = monthly.loc[monthly['year'] <= 1846]\n",
    "after_washing = monthly.loc[monthly['year'] > 1846]\n",
    "\n",
    "# Plot monthly proportion of deaths before and after handwashing\n",
    "ax = before_washing.plot(x='date', y='prop_deaths', label='Before washing')\n",
    "after_washing.plot(x='date', y='prop_deaths', label='After washing', ax=ax)\n",
    "ax.set_ylabel('Proportion deaths')"
   ]
  },
  {
   "cell_type": "markdown",
   "id": "69ffdba7-e231-4bfc-8bdc-173c5c72b82e",
   "metadata": {},
   "source": [
    "### 7. More handwashing, fewer deaths?\n",
    "<p>Again, the graph shows that handwashing had a huge effect. How much did it reduce the monthly proportion of deaths on average?</p>"
   ]
  },
  {
   "cell_type": "code",
   "execution_count": 93,
   "id": "09514589-a570-4cfc-88f2-7ca4c6d02e22",
   "metadata": {},
   "outputs": [],
   "source": [
    "import numpy as np"
   ]
  },
  {
   "cell_type": "code",
   "execution_count": 97,
   "id": "2112261b-dbd5-4d65-a53b-854800a15085",
   "metadata": {},
   "outputs": [
    {
     "name": "stdout",
     "output_type": "stream",
     "text": [
      "7.519076642777145\n"
     ]
    }
   ],
   "source": [
    "# Difference in mean monthly proportion of deaths due to handwashing\n",
    "before_proportion = before_washing['prop_deaths']\n",
    "after_proportion = after_washing['prop_deaths']\n",
    "mean_diff = np.mean(before_proportion) - np.mean(after_proportion)\n",
    "print(mean_diff*100) "
   ]
  },
  {
   "cell_type": "markdown",
   "id": "ae3ff414-c0ed-47ee-bef1-59117b6dcc4f",
   "metadata": {},
   "source": [
    "### 8. A Bootstrap analysis of Semmelweis handwashing data\n",
    "<p>It reduced the proportion of deaths by around 8 percentage points! From 10% on average to just 2% (which is still a high number by modern standards). </p>\n",
    "<p>To get a feeling for the uncertainty around how much handwashing reduces mortalities we could look at a confidence interval (here calculated using the bootstrap method).</p>"
   ]
  },
  {
   "cell_type": "code",
   "execution_count": 106,
   "id": "86582d93-80dd-4d0e-a9b3-6b9e5c8135c3",
   "metadata": {},
   "outputs": [],
   "source": [
    "# boot_before = before_proportion.sample(replace=True)\n",
    "# boot_after = after_proportion.sample(replace=True)\n",
    "# print(boot_before, boot_after)\n",
    "# print(np.mean(boot_before), np.mean(boot_after))"
   ]
  },
  {
   "cell_type": "code",
   "execution_count": 120,
   "id": "a52bbd02-113b-45f5-868e-5c5b76a0797b",
   "metadata": {},
   "outputs": [
    {
     "data": {
      "text/plain": [
       "0.025   -0.060524\n",
       "0.975    0.264091\n",
       "dtype: float64"
      ]
     },
     "execution_count": 120,
     "metadata": {},
     "output_type": "execute_result"
    }
   ],
   "source": [
    "# A bootstrap analysis of the reduction of deaths due to handwashing\n",
    "boot_mean_diff = []\n",
    "for i in range(3000):\n",
    "    boot_before = before_proportion.sample(replace=True)\n",
    "    boot_after = after_proportion.sample(replace=True)\n",
    "    boot_mean_diff.append(np.mean(boot_before) - np.mean(boot_after))\n",
    "\n",
    "# Calculating a 95% confidence interval from boot_mean_diff \n",
    "confidence_interval = pd.Series(boot_mean_diff).quantile([0.025, 0.975])\n",
    "confidence_interval"
   ]
  },
  {
   "cell_type": "markdown",
   "id": "8e596ecc-fd87-4cc5-8524-55e4127c7e29",
   "metadata": {},
   "source": [
    "### 9. The fate of Dr. Semmelweis\n",
    "<p>So handwashing reduced the proportion of deaths by between 6.7 and 10 percentage points, according to a 95% confidence interval. All in all, it would seem that Semmelweis had solid evidence that handwashing was a simple but highly effective procedure that could save many lives.</p>\n",
    "<p>The tragedy is that, despite the evidence, Semmelweis' theory — that childbed fever was caused by some \"substance\" (what we today know as <em>bacteria</em>) from autopsy room corpses — was ridiculed by contemporary scientists. The medical community largely rejected his discovery and in 1849 he was forced to leave the Vienna General Hospital for good.</p>\n",
    "<p>One reason for this was that statistics and statistical arguments were uncommon in medical science in the 1800s. Semmelweis only published his data as long tables of raw data, but he didn't show any graphs nor confidence intervals. If he would have had access to the analysis we've just put together he might have been more successful in getting the Viennese doctors to wash their hands.</p>"
   ]
  },
  {
   "cell_type": "code",
   "execution_count": null,
   "id": "1a688bb0-3390-4d87-8872-9a176765fda0",
   "metadata": {},
   "outputs": [],
   "source": [
    "# The data Semmelweis collected points to that:\n",
    "doctors_should_wash_their_hands = False"
   ]
  },
  {
   "cell_type": "code",
   "execution_count": null,
   "id": "ef243b8d-7980-4a94-801b-5ef66a04a28d",
   "metadata": {},
   "outputs": [],
   "source": []
  },
  {
   "cell_type": "markdown",
   "id": "e553e1e3-d9be-4875-af4f-9235f07f264d",
   "metadata": {},
   "source": [
    "### Happy Learing :)"
   ]
  }
 ],
 "metadata": {
  "kernelspec": {
   "display_name": "Python 3 (ipykernel)",
   "language": "python",
   "name": "python3"
  },
  "language_info": {
   "codemirror_mode": {
    "name": "ipython",
    "version": 3
   },
   "file_extension": ".py",
   "mimetype": "text/x-python",
   "name": "python",
   "nbconvert_exporter": "python",
   "pygments_lexer": "ipython3",
   "version": "3.9.7"
  }
 },
 "nbformat": 4,
 "nbformat_minor": 5
}
